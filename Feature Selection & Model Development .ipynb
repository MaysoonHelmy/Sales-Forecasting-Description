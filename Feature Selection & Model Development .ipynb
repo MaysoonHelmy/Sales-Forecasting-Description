{
 "cells": [
  {
   "cell_type": "markdown",
   "id": "f2f974a7",
   "metadata": {},
   "source": [
    "# Importing Libraries"
   ]
  },
  {
   "cell_type": "code",
   "execution_count": 28,
   "id": "444a9ce5",
   "metadata": {},
   "outputs": [],
   "source": [
    "import pandas as pd\n",
    "import numpy as np\n",
    "import matplotlib.pyplot as plt\n",
    "import seaborn as sns\n",
    "from sklearn.feature_selection import SelectKBest\n",
    "from sklearn.feature_selection import RFE\n",
    "from sklearn.linear_model import LinearRegression\n",
    "from sklearn.model_selection import RandomizedSearchCV\n",
    "from sklearn.feature_selection import mutual_info_regression\n",
    "from sklearn.metrics import root_mean_squared_error,r2_score \n",
    "import lightgbm as lgb\n",
    "import xgboost as xgb\n",
    "import os\n",
    "\n",
    "import warnings\n",
    "warnings.filterwarnings('ignore')"
   ]
  },
  {
   "cell_type": "markdown",
   "id": "f5d7ba48",
   "metadata": {},
   "source": [
    "# Load PreProcessed Data"
   ]
  },
  {
   "cell_type": "code",
   "execution_count": null,
   "id": "816fe7fa",
   "metadata": {},
   "outputs": [],
   "source": [
    "df_train = pd.read_csv('PreProcessed Data/Preprocessed_Train.csv')\n",
    "df_val = pd.read_csv('PreProcessed Data/Preprocessed_Val.csv')\n",
    "df_test = pd.read_csv('PreProcessed Data/Preprocessed_Test.csv')"
   ]
  },
  {
   "cell_type": "code",
   "execution_count": 3,
   "id": "02868d0e",
   "metadata": {},
   "outputs": [],
   "source": [
    "x_train = df_train.drop(columns=['Weekly_Sales'])\n",
    "y_train = df_train['Weekly_Sales']\n",
    "x_val = df_val.drop(columns=['Weekly_Sales'])\n",
    "y_val = df_val['Weekly_Sales']\n",
    "x_test = df_test"
   ]
  },
  {
   "cell_type": "markdown",
   "id": "0054db0b",
   "metadata": {},
   "source": [
    "# Feature Selection"
   ]
  },
  {
   "cell_type": "code",
   "execution_count": 4,
   "id": "dff67815",
   "metadata": {},
   "outputs": [
    {
     "name": "stdout",
     "output_type": "stream",
     "text": [
      "<class 'pandas.core.frame.DataFrame'>\n",
      "RangeIndex: 337256 entries, 0 to 337255\n",
      "Data columns (total 42 columns):\n",
      " #   Column                         Non-Null Count   Dtype  \n",
      "---  ------                         --------------   -----  \n",
      " 0   Store                          337256 non-null  float64\n",
      " 1   Dept                           337256 non-null  float64\n",
      " 2   IsHoliday                      337256 non-null  int64  \n",
      " 3   Temperature                    337256 non-null  float64\n",
      " 4   Fuel_Price                     337256 non-null  float64\n",
      " 5   CPI                            337256 non-null  float64\n",
      " 6   Unemployment                   337256 non-null  float64\n",
      " 7   Type                           337256 non-null  int64  \n",
      " 8   Size                           337256 non-null  float64\n",
      " 9   Year                           337256 non-null  int64  \n",
      " 10  Month                          337256 non-null  int64  \n",
      " 11  Week                           337256 non-null  int64  \n",
      " 12  Day                            337256 non-null  int64  \n",
      " 13  DayOfWeek                      337256 non-null  int64  \n",
      " 14  Quarter                        337256 non-null  int64  \n",
      " 15  DaysToHoliday                  337256 non-null  int64  \n",
      " 16  MarkDown_Total                 337256 non-null  float64\n",
      " 17  Historical_Avg_Temperature     337256 non-null  float64\n",
      " 18  Historical_Avg_Fuel_Price      337256 non-null  float64\n",
      " 19  Historical_Avg_MarkDown_Total  337256 non-null  float64\n",
      " 20  Historical_Avg_CPI             337256 non-null  float64\n",
      " 21  Historical_Avg_Unemployment    337256 non-null  float64\n",
      " 22  FuelPrice_Change               337256 non-null  float64\n",
      " 23  Temperature_Change             337256 non-null  float64\n",
      " 24  Prev_IsHoliday                 337256 non-null  float64\n",
      " 25  Prev_Temperature               337256 non-null  float64\n",
      " 26  Prev_MarkDown                  337256 non-null  float64\n",
      " 27  Temperature_Rolling4           337256 non-null  float64\n",
      " 28  FuelPrice_Rolling4             337256 non-null  float64\n",
      " 29  MarkDown_Rolling4              337256 non-null  float64\n",
      " 30  Temperature_Rolling8           337256 non-null  float64\n",
      " 31  FuelPrice_Rolling8             337256 non-null  float64\n",
      " 32  MarkDown_Rolling8              337256 non-null  float64\n",
      " 33  Temperature_Rolling12          337256 non-null  float64\n",
      " 34  FuelPrice_Rolling12            337256 non-null  float64\n",
      " 35  MarkDown_Rolling12             337256 non-null  float64\n",
      " 36  Temperature_Rolling26          337256 non-null  float64\n",
      " 37  FuelPrice_Rolling26            337256 non-null  float64\n",
      " 38  MarkDown_Rolling26             337256 non-null  float64\n",
      " 39  Temperature_Rolling52          337256 non-null  float64\n",
      " 40  FuelPrice_Rolling52            337256 non-null  float64\n",
      " 41  MarkDown_Rolling52             337256 non-null  float64\n",
      "dtypes: float64(33), int64(9)\n",
      "memory usage: 108.1 MB\n"
     ]
    }
   ],
   "source": [
    "x_train.info()"
   ]
  },
  {
   "cell_type": "code",
   "execution_count": 5,
   "id": "6fd845cb",
   "metadata": {},
   "outputs": [],
   "source": [
    "# Manually selected featurees\n",
    "selected_features = [\n",
    "    'Store', 'Dept', 'Week', 'Month', 'Quarter', 'DayOfWeek', 'DaysToHoliday',\n",
    "    'CPI', 'Unemployment', 'Fuel_Price', 'Temperature', 'Type', 'Size', 'MarkDown_Total',\n",
    "    'Historical_Avg_Temperature', 'Historical_Avg_Fuel_Price', 'Historical_Avg_MarkDown_Total',\n",
    "    'FuelPrice_Change', 'Temperature_Change', 'Prev_IsHoliday', 'Prev_Temperature', 'Prev_MarkDown',\n",
    "    'Temperature_Rolling12', 'FuelPrice_Rolling12', 'MarkDown_Rolling12', 'Temperature_Rolling52', 'MarkDown_Rolling52'\n",
    "]"
   ]
  },
  {
   "cell_type": "code",
   "execution_count": 6,
   "metadata": {},
   "outputs": [
    {
     "name": "stdout",
     "output_type": "stream",
     "text": [
      "SelectKBest: Index(['Store', 'Dept', 'Temperature', 'Fuel_Price', 'CPI', 'Unemployment',\n",
      "       'Type', 'Size', 'MarkDown_Total', 'Historical_Avg_Temperature',\n",
      "       'Historical_Avg_Fuel_Price', 'Historical_Avg_MarkDown_Total',\n",
      "       'Historical_Avg_CPI', 'Historical_Avg_Unemployment', 'Prev_Temperature',\n",
      "       'Prev_MarkDown', 'MarkDown_Rolling4', 'MarkDown_Rolling8',\n",
      "       'Temperature_Rolling12', 'MarkDown_Rolling12', 'Temperature_Rolling26',\n",
      "       'MarkDown_Rolling26', 'Temperature_Rolling52', 'FuelPrice_Rolling52',\n",
      "       'MarkDown_Rolling52'],\n",
      "      dtype='object')\n"
     ]
    }
   ],
   "source": [
    "# Selecting features using SelectKBest for regression\n",
    "selector = SelectKBest(score_func=mutual_info_regression, k=25)\n",
    "selector.fit(x_train, y_train)\n",
    "selected_features_kbest = x_train.columns[selector.get_support().tolist()]\n",
    "print(\"SelectKBest:\", selected_features_kbest)"
   ]
  },
  {
   "cell_type": "code",
   "execution_count": 7,
   "id": "0023891e",
   "metadata": {},
   "outputs": [
    {
     "name": "stdout",
     "output_type": "stream",
     "text": [
      "RFE selected features: ['Store', 'Dept', 'IsHoliday', 'Fuel_Price', 'CPI', 'Unemployment', 'Type', 'Year', 'Month', 'Week', 'Day', 'Quarter', 'DaysToHoliday', 'Historical_Avg_Temperature', 'Historical_Avg_Fuel_Price', 'Historical_Avg_CPI', 'Historical_Avg_Unemployment', 'FuelPrice_Change', 'Temperature_Change', 'FuelPrice_Rolling8', 'FuelPrice_Rolling12', 'Temperature_Rolling26', 'FuelPrice_Rolling26', 'Temperature_Rolling52', 'FuelPrice_Rolling52']\n"
     ]
    }
   ],
   "source": [
    "# Feature selection using RFE with a regression estimator\n",
    "estimator = LinearRegression()\n",
    "rfe = RFE(estimator, n_features_to_select=25)\n",
    "rfe.fit(x_train, y_train)\n",
    "selected_features_rfe = x_train.columns[rfe.support_]\n",
    "print(\"RFE selected features:\", selected_features_rfe.tolist())"
   ]
  },
  {
   "cell_type": "markdown",
   "id": "d8d39b3b",
   "metadata": {},
   "source": [
    "# Model Development"
   ]
  },
  {
   "cell_type": "code",
   "execution_count": 8,
   "id": "c1f7b079",
   "metadata": {
    "vscode": {
     "languageId": "javascript"
    }
   },
   "outputs": [],
   "source": [
    "feature_sets = {\n",
    "    'manual': selected_features,\n",
    "    'kbest': selected_features_kbest.tolist(),\n",
    "    'rfe': selected_features_rfe.tolist(),\n",
    "    'all': x_train.columns.tolist()\n",
    "}"
   ]
  },
  {
   "cell_type": "markdown",
   "id": "4bf2b315",
   "metadata": {},
   "source": [
    "## LightGBM Model"
   ]
  },
  {
   "cell_type": "markdown",
   "id": "adde891a",
   "metadata": {},
   "source": [
    "### Train the model "
   ]
  },
  {
   "cell_type": "code",
   "execution_count": null,
   "id": "4e602297",
   "metadata": {},
   "outputs": [
    {
     "name": "stdout",
     "output_type": "stream",
     "text": [
      "Feature Set: manual done\n",
      "Feature Set: kbest done\n",
      "Feature Set: rfe done\n",
      "Feature Set: all done\n"
     ]
    }
   ],
   "source": [
    "# Dictionaries to store results and models\n",
    "lgb_results = {}\n",
    "lgb_models = {}\n",
    "\n",
    "for name, features in feature_sets.items():\n",
    "    \n",
    "    # Select features\n",
    "    X_train_selected = x_train[features]\n",
    "    X_val_selected = x_val[features]\n",
    "    X_test_selected = x_test[features]  \n",
    "\n",
    "    # Initialize LightGBM Regressor\n",
    "    lgb_model = lgb.LGBMRegressor(random_state=42,force_col_wise=True,verbosity=-1,n_jobs=-1)\n",
    "\n",
    "    # Hyperparameter grid\n",
    "    lgb_params = {\n",
    "        'num_leaves': [31, 50, 70],\n",
    "        'learning_rate': [0.01, 0.05, 0.1],\n",
    "        'n_estimators': [100, 200, 500],\n",
    "        'max_depth': [5, 10, -1],\n",
    "        'subsample': [0.7, 0.8, 1.0],\n",
    "        'colsample_bytree': [0.7, 0.8, 1.0]\n",
    "    }\n",
    "\n",
    "    # Randomized Search with Cross-Validation on training split\n",
    "    lgb_search = RandomizedSearchCV(lgb_model, lgb_params,n_iter=10,cv=3,scoring='neg_root_mean_squared_error',n_jobs=-1, random_state=42,verbose=0)\n",
    "\n",
    "    # Fit on training split \n",
    "    lgb_search.fit(X_train_selected, y_train)\n",
    "    lgb_best = lgb_search.best_estimator_\n",
    "\n",
    "    # Predictions\n",
    "    y_train_pred = lgb_best.predict(X_train_selected)\n",
    "    y_val_pred = lgb_best.predict(X_val_selected)\n",
    "\n",
    "    # Metrics\n",
    "    train_rmse = root_mean_squared_error(y_train, y_train_pred)\n",
    "    val_rmse = root_mean_squared_error(y_val, y_val_pred)\n",
    "    train_r2 = r2_score(y_train, y_train_pred)\n",
    "    val_r2 = r2_score(y_val, y_val_pred)\n",
    "\n",
    "    # Store results\n",
    "    lgb_results[name] = {\n",
    "        'lgbm_best_params': lgb_search.best_params_,\n",
    "        'lgbm_train_rmse': train_rmse,\n",
    "        'lgbm_val_rmse': val_rmse,\n",
    "        'lgbm_train_r2': train_r2,\n",
    "        'lgbm_val_r2': val_r2\n",
    "    }\n",
    "\n",
    "    # Save best model\n",
    "    lgb_models[name] = lgb_best\n",
    "    print(f\"Feature Set: {name} done\")"
   ]
  },
  {
   "cell_type": "code",
   "execution_count": 30,
   "id": "78e61fd6",
   "metadata": {},
   "outputs": [
    {
     "name": "stdout",
     "output_type": "stream",
     "text": [
      "Model Performance Comparison (LightGBM):\n",
      "==================================================\n",
      "\n",
      "Feature Set: manual\n",
      " Train R²:   0.9711\n",
      " Train RMSE: 3,852.27\n",
      " Val R²:     0.9660\n",
      " Val RMSE:   4,211.57\n",
      "\n",
      "Feature Set: kbest\n",
      " Train R²:   0.9415\n",
      " Train RMSE: 5,485.58\n",
      " Val R²:     0.9236\n",
      " Val RMSE:   6,310.00\n",
      "\n",
      "Feature Set: rfe\n",
      " Train R²:   0.9663\n",
      " Train RMSE: 4,160.87\n",
      " Val R²:     0.9600\n",
      " Val RMSE:   4,568.35\n",
      "\n",
      "Feature Set: all\n",
      " Train R²:   0.9727\n",
      " Train RMSE: 3,748.57\n",
      " Val R²:     0.9671\n",
      " Val RMSE:   4,141.62\n"
     ]
    }
   ],
   "source": [
    "# Convert results dictionary to DataFrame\n",
    "lgb_results_df = pd.DataFrame.from_dict(lgb_results, orient='index')\n",
    "\n",
    "# Display comparison\n",
    "print(\"Model Performance Comparison (LightGBM):\")\n",
    "print(\"=\" * 50)\n",
    "\n",
    "for feature_set in lgb_results_df.index:\n",
    "    print(f\"\\nFeature Set: {feature_set}\")\n",
    "\n",
    "    # Training \n",
    "    train_r2 = lgb_results_df.loc[feature_set, 'lgbm_train_r2']\n",
    "    train_rmse = lgb_results_df.loc[feature_set, 'lgbm_train_rmse']\n",
    "    print(f\" Train R²:   {train_r2:.4f}\")\n",
    "    print(f\" Train RMSE: {train_rmse:,.2f}\")\n",
    "\n",
    "    # Validation\n",
    "    val_r2 = lgb_results_df.loc[feature_set, 'lgbm_val_r2']\n",
    "    val_rmse = lgb_results_df.loc[feature_set, 'lgbm_val_rmse']\n",
    "    print(f\" Val R²:     {val_r2:.4f}\")\n",
    "    print(f\" Val RMSE:   {val_rmse:,.2f}\")"
   ]
  },
  {
   "cell_type": "markdown",
   "id": "0bff6e08",
   "metadata": {},
   "source": [
    "### Predict the y_test using the best LightGBM Model "
   ]
  },
  {
   "cell_type": "code",
   "execution_count": 11,
   "id": "1c7871a4",
   "metadata": {},
   "outputs": [
    {
     "name": "stdout",
     "output_type": "stream",
     "text": [
      "LightGBM predictions done.\n"
     ]
    }
   ],
   "source": [
    "# Predict for your best feature set\n",
    "best_set_name = 'manual'  \n",
    "features = feature_sets[best_set_name]\n",
    "X_test_selected = x_test[features]\n",
    "\n",
    "# predict using the best LightGBM model\n",
    "best_model = lgb_models[best_set_name]\n",
    "lgb_predictions = best_model.predict(X_test_selected)\n",
    "\n",
    "print(\"LightGBM predictions done.\")"
   ]
  },
  {
   "cell_type": "markdown",
   "id": "a136f55f",
   "metadata": {},
   "source": [
    "## XGBoost Model"
   ]
  },
  {
   "cell_type": "markdown",
   "id": "6df92683",
   "metadata": {},
   "source": [
    "### Train the Model"
   ]
  },
  {
   "cell_type": "code",
   "execution_count": 15,
   "id": "c93b6897",
   "metadata": {},
   "outputs": [
    {
     "name": "stdout",
     "output_type": "stream",
     "text": [
      "Feature Set: manual done\n",
      "Feature Set: kbest done\n",
      "Feature Set: rfe done\n",
      "Feature Set: all done\n"
     ]
    }
   ],
   "source": [
    "# Dictionaries to store results and models\n",
    "xgb_results = {}\n",
    "xgb_models = {}\n",
    "\n",
    "\n",
    "for name, features in feature_sets.items():\n",
    "\n",
    "    # Select features\n",
    "    X_train_selected = x_train[features]\n",
    "    X_test_selected = x_test[features]\n",
    "    X_val_selected = x_val[features]  \n",
    "    \n",
    "    # Initialize XGBoost Regressor\n",
    "    xgb_model = xgb.XGBRegressor(random_state=42,tree_method='hist',verbosity=0,n_jobs=-1)\n",
    "\n",
    "    xgb_params = {\n",
    "        'n_estimators': [200, 500],              \n",
    "        'max_depth': [3, 5],                     \n",
    "        'learning_rate': [0.01, 0.05],          \n",
    "        'subsample': [0.7, 0.8],                 \n",
    "        'colsample_bytree': [0.7, 0.8],          \n",
    "        'gamma': [1, 5],                       \n",
    "        'reg_alpha': [0.1, 1, 5],               \n",
    "        'reg_lambda': [1, 5, 10],               \n",
    "        'min_child_weight': [3, 5],             \n",
    "    }\n",
    "\n",
    "    #  Randomized search with cross-validation\n",
    "    xgb_search = RandomizedSearchCV(\n",
    "        estimator=xgb_model,\n",
    "        param_distributions=xgb_params,\n",
    "        n_iter=10,\n",
    "        cv=3,  \n",
    "        scoring='neg_root_mean_squared_error',\n",
    "        n_jobs=-1,\n",
    "        random_state=42,\n",
    "        verbose=0\n",
    "    )\n",
    "\n",
    "    #  Fit on full training data \n",
    "    xgb_search.fit(X_train_selected, y_train)\n",
    "    xgb_best = xgb_search.best_estimator_\n",
    "\n",
    "    # Predictions on train and validation\n",
    "    y_train_pred = xgb_best.predict(X_train_selected)\n",
    "    y_val_pred = xgb_best.predict(X_val_selected)\n",
    "\n",
    "    #  metrics\n",
    "    train_rmse = root_mean_squared_error(y_train, y_train_pred)\n",
    "    val_rmse = root_mean_squared_error(y_val, y_val_pred)\n",
    "    train_r2 = r2_score(y_train, y_train_pred)\n",
    "    val_r2 = r2_score(y_val, y_val_pred)\n",
    "\n",
    "    # Store results\n",
    "    xgb_results[name] = {\n",
    "        'xgb_best_params': xgb_search.best_params_,\n",
    "        'xgb_train_rmse': round(train_rmse, 2),\n",
    "        'xgb_val_rmse': round(val_rmse, 2),\n",
    "        'xgb_train_r2': round(train_r2, 4),\n",
    "        'xgb_val_r2': round(val_r2, 4)\n",
    "    }\n",
    "\n",
    "    #Save the trained model\n",
    "    xgb_models[name] = xgb_best\n",
    "    print(f\"Feature Set: {name} done\")"
   ]
  },
  {
   "cell_type": "code",
   "execution_count": 31,
   "id": "07fa8b54",
   "metadata": {},
   "outputs": [
    {
     "name": "stdout",
     "output_type": "stream",
     "text": [
      "Model Performance Comparison (XGBoost):\n",
      "==================================================\n",
      "\n",
      "Feature Set: manual\n",
      " Train R²:   0.9243\n",
      " Train RMSE: 6,241.99\n",
      " Val R²:     0.9226\n",
      " Val RMSE:   6,351.29\n",
      "\n",
      "Feature Set: kbest\n",
      " Train R²:   0.9039\n",
      " Train RMSE: 7,032.34\n",
      " Val R²:     0.8940\n",
      " Val RMSE:   7,435.66\n",
      "\n",
      "Feature Set: rfe\n",
      " Train R²:   0.9122\n",
      " Train RMSE: 6,720.88\n",
      " Val R²:     0.9118\n",
      " Val RMSE:   6,783.19\n",
      "\n",
      "Feature Set: all\n",
      " Train R²:   0.9274\n",
      " Train RMSE: 6,109.06\n",
      " Val R²:     0.9243\n",
      " Val RMSE:   6,282.98\n"
     ]
    }
   ],
   "source": [
    "# Convert results dictionary to DataFrame\n",
    "xgb_results_df = pd.DataFrame.from_dict(xgb_results, orient='index')\n",
    "\n",
    "# Display comparison\n",
    "print(\"Model Performance Comparison (XGBoost):\")\n",
    "print(\"=\" * 50)\n",
    "\n",
    "for feature_set in xgb_results_df.index:\n",
    "    print(f\"\\nFeature Set: {feature_set}\")\n",
    "\n",
    "    # Training metrics\n",
    "    train_r2 = xgb_results_df.loc[feature_set, 'xgb_train_r2']\n",
    "    train_rmse = xgb_results_df.loc[feature_set, 'xgb_train_rmse']\n",
    "    print(f\" Train R²:   {train_r2:.4f}\")\n",
    "    print(f\" Train RMSE: {train_rmse:,.2f}\")\n",
    "\n",
    "    # Validation metrics\n",
    "    val_r2 = xgb_results_df.loc[feature_set, 'xgb_val_r2']\n",
    "    val_rmse = xgb_results_df.loc[feature_set, 'xgb_val_rmse']\n",
    "    print(f\" Val R²:     {val_r2:.4f}\")\n",
    "    print(f\" Val RMSE:   {val_rmse:,.2f}\")"
   ]
  },
  {
   "cell_type": "markdown",
   "id": "b8205729",
   "metadata": {},
   "source": [
    "### Predict the y_test using the best XGBoost Model "
   ]
  },
  {
   "cell_type": "code",
   "execution_count": 17,
   "id": "a604de93",
   "metadata": {},
   "outputs": [
    {
     "name": "stdout",
     "output_type": "stream",
     "text": [
      "XGBoost predictions done\n"
     ]
    }
   ],
   "source": [
    "# Predict using the best XGBoost model for the selected feature set\n",
    "best_set_name = 'manual'  \n",
    "features = feature_sets[best_set_name]\n",
    "X_test_selected = x_test[features]\n",
    "\n",
    "# Retrieve the best XGBoost model \n",
    "best_model = xgb_models[best_set_name]  \n",
    "xgb_predictions = best_model.predict(X_test_selected)\n",
    "\n",
    "print(\"XGBoost predictions done\")"
   ]
  },
  {
   "cell_type": "markdown",
   "id": "034b9d3b",
   "metadata": {},
   "source": [
    "## Save Both Models prediction into an excel sheet"
   ]
  },
  {
   "cell_type": "code",
   "execution_count": 21,
   "id": "8ef3a69d",
   "metadata": {},
   "outputs": [],
   "source": [
    "output_folder = 'Predictions'\n",
    "output_file = os.path.join(output_folder, 'Weekly_Sales_Prediction.xlsx')\n",
    "with pd.ExcelWriter(output_file, engine='openpyxl') as writer:\n",
    "    pd.DataFrame({'predictions': lgb_predictions}).to_excel(writer, sheet_name='LightGBM', index=False)\n",
    "    pd.DataFrame({'predictions': xgb_predictions}).to_excel(writer, sheet_name='XGBoost', index=False)"
   ]
  },
  {
   "cell_type": "markdown",
   "id": "944fcb32",
   "metadata": {},
   "source": [
    "# Compare the Performance of Both Models"
   ]
  },
  {
   "cell_type": "code",
   "execution_count": 32,
   "id": "19b0f44c",
   "metadata": {},
   "outputs": [],
   "source": [
    "lgb_results_df = lgb_results_df.reset_index().rename(columns={'index': 'Feature_Set'})\n",
    "xgb_results_df = xgb_results_df.reset_index().rename(columns={'index': 'Feature_Set'})\n",
    "\n",
    "# Merge results for comparison\n",
    "comparison_df = xgb_results_df.merge(lgb_results_df, on='Feature_Set')\n",
    "\n",
    "comparison_df = comparison_df.rename(columns={\n",
    "    'xgb_val_r2': 'XGB_Val_R2',\n",
    "    'xgb_val_rmse': 'XGB_Val_RMSE',\n",
    "    'lgbm_val_r2': 'LGBM_Val_R2',\n",
    "    'lgbm_val_rmse': 'LGBM_Val_RMSE',\n",
    "    'xgb_train_r2': 'XGB_Train_R2',\n",
    "    'lgbm_train_r2': 'LGBM_Train_R2'\n",
    "})\n",
    "\n",
    "# Add new column to measure overfitting\n",
    "comparison_df['XGB_R2_Drop'] = comparison_df['XGB_Train_R2'] - comparison_df['XGB_Val_R2']\n",
    "comparison_df['LGBM_R2_Drop'] = comparison_df['LGBM_Train_R2'] - comparison_df['LGBM_Val_R2']"
   ]
  },
  {
   "cell_type": "code",
   "execution_count": 33,
   "id": "a48d8bea",
   "metadata": {},
   "outputs": [
    {
     "data": {
      "image/png": "[encoded data removed]",
      "text/plain": [
       "<Figure size 1200x600 with 1 Axes>"
      ]
     },
     "metadata": {},
     "output_type": "display_data"
    }
   ],
   "source": [
    "# Set Style\n",
    "sns.set_style(\"whitegrid\")\n",
    "plt.rcParams.update({'font.size': 10})\n",
    "plt.figure(figsize=(12, 6))\n",
    "\n",
    "# Prepare data\n",
    "r2_data = comparison_df[['Feature_Set', 'XGB_Val_R2', 'LGBM_Val_R2']]\n",
    "r2_melted = r2_data.melt(id_vars='Feature_Set', var_name='Model', value_name='Validation_R2')\n",
    "r2_melted['Model'] = r2_melted['Model'].replace({'XGB_Val_R2': 'XGBoost', 'LGBM_Val_R2': 'LightGBM'})\n",
    "\n",
    "# Plot\n",
    "sns.barplot(data=r2_melted, x='Feature_Set', y='Validation_R2', hue='Model', palette='Blues_d')\n",
    "plt.title('🔍 Validation R²: XGBoost vs LightGBM', fontweight='bold')\n",
    "plt.ylabel('R² Score (Higher = Better)')\n",
    "plt.xlabel('Feature Set')\n",
    "plt.legend(title='Model')\n",
    "plt.tight_layout()\n",
    "plt.show()"
   ]
  },
  {
   "cell_type": "code",
   "execution_count": 34,
   "id": "fff09ca8",
   "metadata": {},
   "outputs": [
    {
     "data": {
      "image/png": "[encoded data removed]",
      "text/plain": [
       "<Figure size 1000x600 with 1 Axes>"
      ]
     },
     "metadata": {},
     "output_type": "display_data"
    }
   ],
   "source": [
    "plt.figure(figsize=(10, 6))\n",
    "\n",
    "# Prepare data\n",
    "rmse_data = comparison_df[['Feature_Set', 'XGB_Val_RMSE', 'LGBM_Val_RMSE']]\n",
    "rmse_melted = rmse_data.melt(id_vars='Feature_Set', var_name='Model', value_name='Validation_RMSE')\n",
    "rmse_melted['Model'] = rmse_melted['Model'].replace({'XGB_Val_RMSE': 'XGBoost', 'LGBM_Val_RMSE': 'LightGBM'})\n",
    "\n",
    "# Plot\n",
    "sns.barplot(data=rmse_melted, x='Feature_Set', y='Validation_RMSE', hue='Model', palette='Oranges_d')\n",
    "plt.title('📉 Validation RMSE: XGBoost vs LightGBM', fontweight='bold')\n",
    "plt.ylabel('RMSE (Lower = Better)')\n",
    "plt.xlabel('Feature Set')\n",
    "plt.legend(title='Model')\n",
    "plt.tight_layout()\n",
    "plt.show()"
   ]
  },
  {
   "cell_type": "code",
   "execution_count": 35,
   "id": "ceb5263d",
   "metadata": {},
   "outputs": [
    {
     "data": {
      "image/png": "[encoded data removed]",
      "text/plain": [
       "<Figure size 1000x600 with 1 Axes>"
      ]
     },
     "metadata": {},
     "output_type": "display_data"
    }
   ],
   "source": [
    "plt.figure(figsize=(10, 6))\n",
    "\n",
    "# Prepare data\n",
    "drop_data = comparison_df[['Feature_Set', 'XGB_R2_Drop', 'LGBM_R2_Drop']]\n",
    "drop_melted = drop_data.melt(id_vars='Feature_Set', var_name='Model', value_name='R2_Drop')\n",
    "drop_melted['Model'] = drop_melted['Model'].replace({\n",
    "    'XGB_R2_Drop': 'XGBoost',\n",
    "    'LGBM_R2_Drop': 'LightGBM'\n",
    "})\n",
    "\n",
    "# Plot\n",
    "sns.barplot(data=drop_melted, x='Feature_Set', y='R2_Drop', hue='Model', palette='Reds_d')\n",
    "plt.title('⚠️ Overfitting: Train to Validation R² Drop (Smaller = Better)', fontweight='bold')\n",
    "plt.ylabel('R² Drop (Lower = More Stable)')\n",
    "plt.xlabel('Feature Set')\n",
    "plt.legend(title='Model')\n",
    "plt.tight_layout()\n",
    "plt.show()"
   ]
  },
  {
   "cell_type": "code",
   "execution_count": 36,
   "id": "6e78d407",
   "metadata": {},
   "outputs": [
    {
     "name": "stdout",
     "output_type": "stream",
     "text": [
      "🏆 Model Comparison Summary (Validation Performance)\n",
      "Feature Set  XGB Val R²  LGBM Val R²  XGB Val RMSE  LGBM Val RMSE  XGB R² Drop  LGBM R² Drop\n",
      "     manual      0.9226       0.9660       6351.29      4211.5701       0.0017        0.0052\n",
      "      kbest      0.8940       0.9236       7435.66      6310.0005       0.0099        0.0179\n",
      "        rfe      0.9118       0.9600       6783.19      4568.3477       0.0004        0.0064\n",
      "        all      0.9243       0.9671       6282.98      4141.6183       0.0031        0.0056\n"
     ]
    }
   ],
   "source": [
    "print(\"🏆 Model Comparison Summary (Validation Performance)\")\n",
    "summary = comparison_df[[\n",
    "    'Feature_Set', \n",
    "    'XGB_Val_R2', 'LGBM_Val_R2', \n",
    "    'XGB_Val_RMSE', 'LGBM_Val_RMSE', \n",
    "    'XGB_R2_Drop', 'LGBM_R2_Drop'\n",
    "]].round(4)\n",
    "\n",
    "# Rename for clean print\n",
    "summary.columns = [\n",
    "    'Feature Set',\n",
    "    'XGB Val R²', 'LGBM Val R²',\n",
    "    'XGB Val RMSE', 'LGBM Val RMSE',\n",
    "    'XGB R² Drop', 'LGBM R² Drop'\n",
    "]\n",
    "print(summary.to_string(index=False))"
   ]
  }
 ],
 "metadata": {
  "kernelspec": {
   "display_name": "base",
   "language": "python",
   "name": "python3"
  },
  "language_info": {
   "codemirror_mode": {
    "name": "ipython",
    "version": 3
   },
   "file_extension": ".py",
   "mimetype": "text/x-python",
   "name": "python",
   "nbconvert_exporter": "python",
   "pygments_lexer": "ipython3",
   "version": "3.12.7"
  }
 },
 "nbformat": 4,
 "nbformat_minor": 5
}
